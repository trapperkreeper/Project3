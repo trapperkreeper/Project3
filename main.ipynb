{
 "cells": [
  {
   "cell_type": "markdown",
   "metadata": {},
   "source": [
    "# Project 3"
   ]
  },
  {
   "cell_type": "code",
   "execution_count": 4,
   "metadata": {},
   "outputs": [],
   "source": [
    "import pandas as pd\n",
    "from typing import List\n",
    "from vaderSentiment.vaderSentiment import SentimentIntensityAnalyzer"
   ]
  },
  {
   "cell_type": "markdown",
   "metadata": {},
   "source": [
    "### Define functions"
   ]
  },
  {
   "cell_type": "code",
   "execution_count": 3,
   "metadata": {},
   "outputs": [],
   "source": [
    "def calculate_sentiment_score(text: str) -> float:\n",
    "    \"\"\"\n",
    "    Calculate sentiment score for the text\n",
    "\n",
    "    :param str text: The text to run sentiment analysis on\n",
    "    :return: The sentiment score\n",
    "    :rtype: float\n",
    "    \"\"\"\n",
    "    sid_obj = SentimentIntensityAnalyzer()\n",
    "    sentiment_dict = sid_obj.polarity_scores(text)\n",
    "    score = sentiment_dict['compound']\n",
    "    return score\n",
    "\n",
    "def generate_chart(data, companies: List[str], start_date: str, end_date: str):\n",
    "    # TODO -- Generate and return a chart based on `data`, filtered by the\n",
    "    #         provided `companies`, `start_date`, and `end_date`\n",
    "    return\n",
    "\n",
    "def fetch_stock_data(ticker, start_date, end_date):\n",
    "    # TODO -- Call an API to fetch daily stock prices for the given ticker,\n",
    "    #         within the time frame defined by `start_date` and `end_date`\n",
    "    return"
   ]
  },
  {
   "cell_type": "markdown",
   "metadata": {},
   "source": [
    "### Fetch Stock Data"
   ]
  },
  {
   "cell_type": "code",
   "execution_count": null,
   "metadata": {},
   "outputs": [],
   "source": []
  },
  {
   "cell_type": "markdown",
   "metadata": {},
   "source": [
    "### Create and Run Gradio Interface"
   ]
  },
  {
   "cell_type": "code",
   "execution_count": null,
   "metadata": {},
   "outputs": [],
   "source": []
  }
 ],
 "metadata": {
  "kernelspec": {
   "display_name": "dev",
   "language": "python",
   "name": "python3"
  },
  "language_info": {
   "codemirror_mode": {
    "name": "ipython",
    "version": 3
   },
   "file_extension": ".py",
   "mimetype": "text/x-python",
   "name": "python",
   "nbconvert_exporter": "python",
   "pygments_lexer": "ipython3",
   "version": "3.10.13"
  }
 },
 "nbformat": 4,
 "nbformat_minor": 2
}
