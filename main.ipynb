{
 "cells": [
  {
   "cell_type": "markdown",
   "metadata": {},
   "source": [
    "# Project 3"
   ]
  },
  {
   "cell_type": "code",
   "execution_count": 1,
   "metadata": {},
   "outputs": [
    {
     "name": "stderr",
     "output_type": "stream",
     "text": [
      "c:\\Users\\bapej\\anaconda3\\envs\\dev\\lib\\site-packages\\pandas\\core\\arrays\\masked.py:60: UserWarning: Pandas requires version '1.3.6' or newer of 'bottleneck' (version '1.3.5' currently installed).\n",
      "  from pandas.core import (\n"
     ]
    }
   ],
   "source": [
    "import pandas as pd\n",
    "from typing import List\n",
    "from vaderSentiment.vaderSentiment import SentimentIntensityAnalyzer\n",
    "import gradio as gr\n",
    "from gradio_calendar import Calendar\n",
    "from datetime import datetime\n",
    "import matplotlib.pyplot as plt\n",
    "\n",
    "sia = SentimentIntensityAnalyzer()"
   ]
  },
  {
   "cell_type": "markdown",
   "metadata": {},
   "source": [
    "### Define functions"
   ]
  },
  {
   "cell_type": "code",
   "execution_count": 3,
   "metadata": {},
   "outputs": [],
   "source": [
    "def calculate_sentiment_score(text: str) -> float:\n",
    "    \"\"\"\n",
    "    Calculate sentiment score for the text\n",
    "\n",
    "    :param str text: The text to run sentiment analysis on\n",
    "    :return: The sentiment score\n",
    "    :rtype: float\n",
    "    \"\"\"\n",
    "    # From VADER documentation:\n",
    "    #\n",
    "    # The compound score is computed by summing the valence scores of each word\n",
    "    # in the lexicon, adjusted according to the rules, and then normalized to be\n",
    "    # between -1 (most extreme negative) and +1 (most extreme positive). This is\n",
    "    # the most useful metric if you want a single unidimensional measure of\n",
    "    # sentiment for a given sentence. Calling it a 'normalized, weighted\n",
    "    # composite score' is accurate.\n",
    "    \n",
    "    sentiment_dict = sia.polarity_scores(text)\n",
    "    score = sentiment_dict['compound']\n",
    "    return score\n",
    "\n",
    "def generate_chart(data, companies: List[str], start_date: str, end_date: str):\n",
    "    # TODO -- Generate and return a chart based on `data`, filtered by the\n",
    "    #         provided `companies`, `start_date`, and `end_date`\n",
    "    return\n",
    "\n",
    "def fetch_stock_data(ticker, start_date, end_date):\n",
    "    # TODO -- Call an API to fetch daily stock prices for the given ticker,\n",
    "    #         within the time frame defined by `start_date` and `end_date`\n",
    "    return"
   ]
  },
  {
   "cell_type": "markdown",
   "metadata": {},
   "source": [
    "### Run Sentiment Analysis"
   ]
  },
  {
   "cell_type": "code",
   "execution_count": 9,
   "metadata": {},
   "outputs": [
    {
     "data": {
      "text/html": [
       "<div>\n",
       "<style scoped>\n",
       "    .dataframe tbody tr th:only-of-type {\n",
       "        vertical-align: middle;\n",
       "    }\n",
       "\n",
       "    .dataframe tbody tr th {\n",
       "        vertical-align: top;\n",
       "    }\n",
       "\n",
       "    .dataframe thead th {\n",
       "        text-align: right;\n",
       "    }\n",
       "</style>\n",
       "<table border=\"1\" class=\"dataframe\">\n",
       "  <thead>\n",
       "    <tr style=\"text-align: right;\">\n",
       "      <th></th>\n",
       "      <th>tweet_id</th>\n",
       "      <th>writer</th>\n",
       "      <th>post_date</th>\n",
       "      <th>body</th>\n",
       "      <th>comment_num</th>\n",
       "      <th>retweet_num</th>\n",
       "      <th>like_num</th>\n",
       "      <th>ticker_symbol</th>\n",
       "    </tr>\n",
       "  </thead>\n",
       "  <tbody>\n",
       "    <tr>\n",
       "      <th>0</th>\n",
       "      <td>550441509175443456</td>\n",
       "      <td>VisualStockRSRC</td>\n",
       "      <td>1420070457</td>\n",
       "      <td>lx21 made $10,008  on $AAPL -Check it out! htt...</td>\n",
       "      <td>0</td>\n",
       "      <td>0</td>\n",
       "      <td>1</td>\n",
       "      <td>AAPL</td>\n",
       "    </tr>\n",
       "    <tr>\n",
       "      <th>1</th>\n",
       "      <td>550441672312512512</td>\n",
       "      <td>KeralaGuy77</td>\n",
       "      <td>1420070496</td>\n",
       "      <td>Insanity of today weirdo massive selling. $aap...</td>\n",
       "      <td>0</td>\n",
       "      <td>0</td>\n",
       "      <td>0</td>\n",
       "      <td>AAPL</td>\n",
       "    </tr>\n",
       "    <tr>\n",
       "      <th>2</th>\n",
       "      <td>550443807834402816</td>\n",
       "      <td>i_Know_First</td>\n",
       "      <td>1420071005</td>\n",
       "      <td>Swing Trading: Up To 8.91% Return In 14 Days h...</td>\n",
       "      <td>0</td>\n",
       "      <td>0</td>\n",
       "      <td>1</td>\n",
       "      <td>AAPL</td>\n",
       "    </tr>\n",
       "    <tr>\n",
       "      <th>3</th>\n",
       "      <td>550443808606126081</td>\n",
       "      <td>aaplstocknews</td>\n",
       "      <td>1420071005</td>\n",
       "      <td>Swing Trading: Up To 8.91% Return In 14 Days h...</td>\n",
       "      <td>0</td>\n",
       "      <td>0</td>\n",
       "      <td>1</td>\n",
       "      <td>AAPL</td>\n",
       "    </tr>\n",
       "    <tr>\n",
       "      <th>4</th>\n",
       "      <td>550443809700851716</td>\n",
       "      <td>iknowfirst</td>\n",
       "      <td>1420071005</td>\n",
       "      <td>Swing Trading: Up To 8.91% Return In 14 Days h...</td>\n",
       "      <td>0</td>\n",
       "      <td>0</td>\n",
       "      <td>1</td>\n",
       "      <td>AAPL</td>\n",
       "    </tr>\n",
       "  </tbody>\n",
       "</table>\n",
       "</div>"
      ],
      "text/plain": [
       "             tweet_id           writer   post_date  \\\n",
       "0  550441509175443456  VisualStockRSRC  1420070457   \n",
       "1  550441672312512512      KeralaGuy77  1420070496   \n",
       "2  550443807834402816     i_Know_First  1420071005   \n",
       "3  550443808606126081    aaplstocknews  1420071005   \n",
       "4  550443809700851716       iknowfirst  1420071005   \n",
       "\n",
       "                                                body  comment_num  \\\n",
       "0  lx21 made $10,008  on $AAPL -Check it out! htt...            0   \n",
       "1  Insanity of today weirdo massive selling. $aap...            0   \n",
       "2  Swing Trading: Up To 8.91% Return In 14 Days h...            0   \n",
       "3  Swing Trading: Up To 8.91% Return In 14 Days h...            0   \n",
       "4  Swing Trading: Up To 8.91% Return In 14 Days h...            0   \n",
       "\n",
       "   retweet_num  like_num ticker_symbol  \n",
       "0            0         1          AAPL  \n",
       "1            0         0          AAPL  \n",
       "2            0         1          AAPL  \n",
       "3            0         1          AAPL  \n",
       "4            0         1          AAPL  "
      ]
     },
     "execution_count": 9,
     "metadata": {},
     "output_type": "execute_result"
    }
   ],
   "source": [
    "sent_apple = pd.read_csv('./data/AAPL.csv')\n",
    "sent_apple.head()"
   ]
  },
  {
   "cell_type": "markdown",
   "metadata": {},
   "source": [
    "Apple"
   ]
  },
  {
   "cell_type": "code",
   "execution_count": 15,
   "metadata": {},
   "outputs": [],
   "source": [
    "# sent_apple = pd.read_csv('./data/AAPL.csv')\n",
    "# sent_apple['Sentiment'] = sent_apple['body'].apply(lambda text: calculate_sentiment_score(text))\n",
    "sent_apple.to_csv('./data/sent-apple.csv', index=False)"
   ]
  },
  {
   "cell_type": "markdown",
   "metadata": {},
   "source": [
    "Amazon"
   ]
  },
  {
   "cell_type": "code",
   "execution_count": 18,
   "metadata": {},
   "outputs": [],
   "source": [
    "sent_amazon = pd.read_csv('./data/AMZN.csv')\n",
    "sent_amazon['Sentiment'] = sent_amazon['body'].apply(lambda text: calculate_sentiment_score(text))\n",
    "sent_amazon.to_csv('./data/sent-amazon.csv', index=False)"
   ]
  },
  {
   "cell_type": "markdown",
   "metadata": {},
   "source": [
    "Google"
   ]
  },
  {
   "cell_type": "code",
   "execution_count": 21,
   "metadata": {},
   "outputs": [],
   "source": [
    "sent_google_1 = pd.read_csv('./data/GOOG.csv')\n",
    "sent_google_2 = pd.read_csv('./data/GOOGL.csv')\n",
    "sent_google = pd.concat([sent_google_1, sent_google_2])\n",
    "sent_google['Sentiment'] = sent_google['body'].apply(lambda text: calculate_sentiment_score(text))\n",
    "sent_google.to_csv('./data/sent-google.csv', index=False)"
   ]
  },
  {
   "cell_type": "markdown",
   "metadata": {},
   "source": [
    "Microsoft"
   ]
  },
  {
   "cell_type": "code",
   "execution_count": 22,
   "metadata": {},
   "outputs": [],
   "source": [
    "sent_microsoft = pd.read_csv('./data/MSFT.csv')\n",
    "sent_microsoft['Sentiment'] = sent_microsoft['body'].apply(lambda text: calculate_sentiment_score(text))\n",
    "sent_microsoft.to_csv('./data/sent-microsoft.csv', index=False)"
   ]
  },
  {
   "cell_type": "markdown",
   "metadata": {},
   "source": []
  },
  {
   "cell_type": "code",
   "execution_count": 13,
   "metadata": {},
   "outputs": [
    {
     "data": {
      "text/html": [
       "<div>\n",
       "<style scoped>\n",
       "    .dataframe tbody tr th:only-of-type {\n",
       "        vertical-align: middle;\n",
       "    }\n",
       "\n",
       "    .dataframe tbody tr th {\n",
       "        vertical-align: top;\n",
       "    }\n",
       "\n",
       "    .dataframe thead th {\n",
       "        text-align: right;\n",
       "    }\n",
       "</style>\n",
       "<table border=\"1\" class=\"dataframe\">\n",
       "  <thead>\n",
       "    <tr style=\"text-align: right;\">\n",
       "      <th></th>\n",
       "      <th>tweet_id</th>\n",
       "      <th>writer</th>\n",
       "      <th>post_date</th>\n",
       "      <th>body</th>\n",
       "      <th>comment_num</th>\n",
       "      <th>retweet_num</th>\n",
       "      <th>like_num</th>\n",
       "      <th>ticker_symbol</th>\n",
       "      <th>Sentiment</th>\n",
       "    </tr>\n",
       "  </thead>\n",
       "  <tbody>\n",
       "    <tr>\n",
       "      <th>0</th>\n",
       "      <td>550441509175443456</td>\n",
       "      <td>VisualStockRSRC</td>\n",
       "      <td>1420070457</td>\n",
       "      <td>lx21 made $10,008  on $AAPL -Check it out! htt...</td>\n",
       "      <td>0</td>\n",
       "      <td>0</td>\n",
       "      <td>1</td>\n",
       "      <td>AAPL</td>\n",
       "      <td>0.0000</td>\n",
       "    </tr>\n",
       "    <tr>\n",
       "      <th>1</th>\n",
       "      <td>550441672312512512</td>\n",
       "      <td>KeralaGuy77</td>\n",
       "      <td>1420070496</td>\n",
       "      <td>Insanity of today weirdo massive selling. $aap...</td>\n",
       "      <td>0</td>\n",
       "      <td>0</td>\n",
       "      <td>0</td>\n",
       "      <td>AAPL</td>\n",
       "      <td>-0.8271</td>\n",
       "    </tr>\n",
       "    <tr>\n",
       "      <th>2</th>\n",
       "      <td>550443807834402816</td>\n",
       "      <td>i_Know_First</td>\n",
       "      <td>1420071005</td>\n",
       "      <td>Swing Trading: Up To 8.91% Return In 14 Days h...</td>\n",
       "      <td>0</td>\n",
       "      <td>0</td>\n",
       "      <td>1</td>\n",
       "      <td>AAPL</td>\n",
       "      <td>0.0000</td>\n",
       "    </tr>\n",
       "    <tr>\n",
       "      <th>3</th>\n",
       "      <td>550443808606126081</td>\n",
       "      <td>aaplstocknews</td>\n",
       "      <td>1420071005</td>\n",
       "      <td>Swing Trading: Up To 8.91% Return In 14 Days h...</td>\n",
       "      <td>0</td>\n",
       "      <td>0</td>\n",
       "      <td>1</td>\n",
       "      <td>AAPL</td>\n",
       "      <td>0.0000</td>\n",
       "    </tr>\n",
       "    <tr>\n",
       "      <th>4</th>\n",
       "      <td>550443809700851716</td>\n",
       "      <td>iknowfirst</td>\n",
       "      <td>1420071005</td>\n",
       "      <td>Swing Trading: Up To 8.91% Return In 14 Days h...</td>\n",
       "      <td>0</td>\n",
       "      <td>0</td>\n",
       "      <td>1</td>\n",
       "      <td>AAPL</td>\n",
       "      <td>0.0000</td>\n",
       "    </tr>\n",
       "    <tr>\n",
       "      <th>...</th>\n",
       "      <td>...</td>\n",
       "      <td>...</td>\n",
       "      <td>...</td>\n",
       "      <td>...</td>\n",
       "      <td>...</td>\n",
       "      <td>...</td>\n",
       "      <td>...</td>\n",
       "      <td>...</td>\n",
       "      <td>...</td>\n",
       "    </tr>\n",
       "    <tr>\n",
       "      <th>9995</th>\n",
       "      <td>555005122871189505</td>\n",
       "      <td>Maximum_Pain_cm</td>\n",
       "      <td>1421158507</td>\n",
       "      <td>$AAPL high open interest range is 71.43 to 120...</td>\n",
       "      <td>0</td>\n",
       "      <td>0</td>\n",
       "      <td>0</td>\n",
       "      <td>AAPL</td>\n",
       "      <td>0.4588</td>\n",
       "    </tr>\n",
       "    <tr>\n",
       "      <th>9996</th>\n",
       "      <td>555005132296159233</td>\n",
       "      <td>garynielson</td>\n",
       "      <td>1421158509</td>\n",
       "      <td>The most popular cameras of 2014 according to ...</td>\n",
       "      <td>0</td>\n",
       "      <td>0</td>\n",
       "      <td>0</td>\n",
       "      <td>AAPL</td>\n",
       "      <td>0.4754</td>\n",
       "    </tr>\n",
       "    <tr>\n",
       "      <th>9997</th>\n",
       "      <td>555005539030011905</td>\n",
       "      <td>sportadore</td>\n",
       "      <td>1421158606</td>\n",
       "      <td>Early movers: $SNDK, $HLT, $MET, $WWW, $AAPL &amp;...</td>\n",
       "      <td>0</td>\n",
       "      <td>0</td>\n",
       "      <td>0</td>\n",
       "      <td>AAPL</td>\n",
       "      <td>0.0000</td>\n",
       "    </tr>\n",
       "    <tr>\n",
       "      <th>9998</th>\n",
       "      <td>555005616578908160</td>\n",
       "      <td>shawncj6</td>\n",
       "      <td>1421158625</td>\n",
       "      <td>$AAPL ripping premarket</td>\n",
       "      <td>0</td>\n",
       "      <td>0</td>\n",
       "      <td>0</td>\n",
       "      <td>AAPL</td>\n",
       "      <td>0.0000</td>\n",
       "    </tr>\n",
       "    <tr>\n",
       "      <th>9999</th>\n",
       "      <td>555005820149440513</td>\n",
       "      <td>howlongtoretire</td>\n",
       "      <td>1421158673</td>\n",
       "      <td>Talk $AAPL with us here: http://ift.tt/1i8Y6ch</td>\n",
       "      <td>0</td>\n",
       "      <td>0</td>\n",
       "      <td>0</td>\n",
       "      <td>AAPL</td>\n",
       "      <td>0.0000</td>\n",
       "    </tr>\n",
       "  </tbody>\n",
       "</table>\n",
       "<p>10000 rows × 9 columns</p>\n",
       "</div>"
      ],
      "text/plain": [
       "                tweet_id           writer   post_date  \\\n",
       "0     550441509175443456  VisualStockRSRC  1420070457   \n",
       "1     550441672312512512      KeralaGuy77  1420070496   \n",
       "2     550443807834402816     i_Know_First  1420071005   \n",
       "3     550443808606126081    aaplstocknews  1420071005   \n",
       "4     550443809700851716       iknowfirst  1420071005   \n",
       "...                  ...              ...         ...   \n",
       "9995  555005122871189505  Maximum_Pain_cm  1421158507   \n",
       "9996  555005132296159233      garynielson  1421158509   \n",
       "9997  555005539030011905       sportadore  1421158606   \n",
       "9998  555005616578908160         shawncj6  1421158625   \n",
       "9999  555005820149440513  howlongtoretire  1421158673   \n",
       "\n",
       "                                                   body  comment_num  \\\n",
       "0     lx21 made $10,008  on $AAPL -Check it out! htt...            0   \n",
       "1     Insanity of today weirdo massive selling. $aap...            0   \n",
       "2     Swing Trading: Up To 8.91% Return In 14 Days h...            0   \n",
       "3     Swing Trading: Up To 8.91% Return In 14 Days h...            0   \n",
       "4     Swing Trading: Up To 8.91% Return In 14 Days h...            0   \n",
       "...                                                 ...          ...   \n",
       "9995  $AAPL high open interest range is 71.43 to 120...            0   \n",
       "9996  The most popular cameras of 2014 according to ...            0   \n",
       "9997  Early movers: $SNDK, $HLT, $MET, $WWW, $AAPL &...            0   \n",
       "9998                            $AAPL ripping premarket            0   \n",
       "9999     Talk $AAPL with us here: http://ift.tt/1i8Y6ch            0   \n",
       "\n",
       "      retweet_num  like_num ticker_symbol  Sentiment  \n",
       "0               0         1          AAPL     0.0000  \n",
       "1               0         0          AAPL    -0.8271  \n",
       "2               0         1          AAPL     0.0000  \n",
       "3               0         1          AAPL     0.0000  \n",
       "4               0         1          AAPL     0.0000  \n",
       "...           ...       ...           ...        ...  \n",
       "9995            0         0          AAPL     0.4588  \n",
       "9996            0         0          AAPL     0.4754  \n",
       "9997            0         0          AAPL     0.0000  \n",
       "9998            0         0          AAPL     0.0000  \n",
       "9999            0         0          AAPL     0.0000  \n",
       "\n",
       "[10000 rows x 9 columns]"
      ]
     },
     "execution_count": 13,
     "metadata": {},
     "output_type": "execute_result"
    }
   ],
   "source": [
    "test_apple = sent_apple.iloc[0:10000].copy()\n",
    "test_apple['Sentiment'] = test_apple['body'].apply(lambda text: calculate_sentiment_score(text))\n",
    "test_apple"
   ]
  },
  {
   "cell_type": "markdown",
   "metadata": {},
   "source": [
    "### Fetch Stock Data"
   ]
  },
  {
   "cell_type": "code",
   "execution_count": null,
   "metadata": {},
   "outputs": [],
   "source": []
  },
  {
   "cell_type": "markdown",
   "metadata": {},
   "source": [
    "### Create and Run Gradio Interface"
   ]
  },
  {
   "cell_type": "code",
   "execution_count": 4,
   "metadata": {},
   "outputs": [
    {
     "name": "stderr",
     "output_type": "stream",
     "text": [
      "c:\\Users\\bapej\\anaconda3\\envs\\dev\\lib\\site-packages\\gradio\\utils.py:977: UserWarning: Expected 4 arguments for function <function generate_chart at 0x00000269D276B400>, received 3.\n",
      "  warnings.warn(\n",
      "c:\\Users\\bapej\\anaconda3\\envs\\dev\\lib\\site-packages\\gradio\\utils.py:981: UserWarning: Expected at least 4 arguments for function <function generate_chart at 0x00000269D276B400>, received 3.\n",
      "  warnings.warn(\n"
     ]
    },
    {
     "name": "stdout",
     "output_type": "stream",
     "text": [
      "Running on local URL:  http://127.0.0.1:7860\n",
      "Running on public URL: https://8d0cf5ab16483c9231.gradio.live\n",
      "\n",
      "This share link expires in 72 hours. For free permanent hosting and GPU upgrades, run `gradio deploy` from Terminal to deploy to Spaces (https://huggingface.co/spaces)\n"
     ]
    },
    {
     "data": {
      "text/html": [
       "<div><iframe src=\"https://8d0cf5ab16483c9231.gradio.live\" width=\"100%\" height=\"500\" allow=\"autoplay; camera; microphone; clipboard-read; clipboard-write;\" frameborder=\"0\" allowfullscreen></iframe></div>"
      ],
      "text/plain": [
       "<IPython.core.display.HTML object>"
      ]
     },
     "metadata": {},
     "output_type": "display_data"
    },
    {
     "data": {
      "text/plain": []
     },
     "execution_count": 4,
     "metadata": {},
     "output_type": "execute_result"
    }
   ],
   "source": [
    "# Ticker list\n",
    "tickers = [\"AAPL\", \"AMZN\", \"GOOG\", \"GOOGL\", \"MSFT\", \"TSLA\"]\n",
    "\n",
    "# Custom css for the interface\n",
    "custom_css = \"\"\"\n",
    ".center-text {\n",
    "    display: flex;\n",
    "    flex-direction: column;\n",
    "    justify-content: center;\n",
    "    align-items: center;\n",
    "    height: 100vh;\n",
    "    text-align: center;\n",
    "}\n",
    "\"\"\"\n",
    "\n",
    "with gr.Blocks(theme=\"Monochrome\", css=custom_css) as gui:\n",
    "    # Home Page\n",
    "    with gr.Row(visible=True) as home_view:\n",
    "        with gr.Column(elem_classes=[\"center-text\"]):\n",
    "            gr.Markdown(\"# Welcome to the Stock Price Chart Application\")\n",
    "            gr.Markdown(\"Use this model to generate stock price charts.\")\n",
    "            home_button = gr.Button(\"Go to Chart Generator\")\n",
    "    # Selection Page\n",
    "    with gr.Row(visible=False) as chart_view:\n",
    "        with gr.Column(scale=1):\n",
    "            companies = gr.CheckboxGroup(choices=tickers, label=\"Select Stock Tickers\")\n",
    "            instructions = gr.Markdown(\"## Select a date range between January 1, 2015, and December 31, 2019\")\n",
    "            start_date = Calendar(label=\"Select a Start Date\", type=\"datetime\", value=\"2015-01-01\")\n",
    "            end_date = Calendar(label=\"Select an End Date\", type=\"datetime\",value=\"2019-12-31\")\n",
    "            generate_button = gr.Button(\"Generate Chart\", scale=1)\n",
    "            back_button = gr.Button(\"Back to Home\", scale=1)\n",
    "    # Plot page\n",
    "    with gr.Row(visible=False) as plot_view:\n",
    "        with gr.Column(scale=50):\n",
    "            plot_output = gr.Plot()\n",
    "        with gr.Column(scale=1):\n",
    "            back_to_chart_button = gr.Button(\"Back to Chart Generator\")\n",
    "    \n",
    "\n",
    "    # Button functions\n",
    "    home_button.click(lambda: (gr.update(visible=False), gr.update(visible=True)), None, [home_view, chart_view])\n",
    "    back_button.click(lambda: (gr.update(visible=True), gr.update(visible=False)), None, [home_view, chart_view])\n",
    "    generate_button.click(lambda: (gr.update(visible=False), gr.update(visible=True)), None, [chart_view, plot_view])\n",
    "    generate_button.click(generate_chart, [companies, start_date, end_date], plot_output)\n",
    "    back_to_chart_button.click(lambda: (gr.update(visible=True), gr.update(visible=False)), None, [chart_view, plot_view])\n",
    "\n",
    "gui.launch(share=True)"
   ]
  },
  {
   "cell_type": "code",
   "execution_count": null,
   "metadata": {},
   "outputs": [],
   "source": []
  }
 ],
 "metadata": {
  "kernelspec": {
   "display_name": "dev",
   "language": "python",
   "name": "python3"
  },
  "language_info": {
   "codemirror_mode": {
    "name": "ipython",
    "version": 3
   },
   "file_extension": ".py",
   "mimetype": "text/x-python",
   "name": "python",
   "nbconvert_exporter": "python",
   "pygments_lexer": "ipython3",
   "version": "3.10.13"
  }
 },
 "nbformat": 4,
 "nbformat_minor": 2
}
