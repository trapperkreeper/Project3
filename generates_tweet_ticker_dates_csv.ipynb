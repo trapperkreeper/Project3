{
 "cells": [
  {
   "cell_type": "code",
   "execution_count": 30,
   "metadata": {},
   "outputs": [],
   "source": [
    "import numpy as np\n",
    "import pandas as pd\n",
    "import matplotlib.pyplot as plt"
   ]
  },
  {
   "cell_type": "code",
   "execution_count": 31,
   "metadata": {},
   "outputs": [],
   "source": [
    "# Import data generated from main.ipynb\n",
    "amazon_df = pd.read_csv(\"data/sent-amazon.csv\")\n",
    "apple_df = pd.read_csv(\"data/sent-apple.csv\")\n",
    "google_df = pd.read_csv(\"data/sent-google.csv\")\n",
    "microsoft_df = pd.read_csv(\"data/sent-microsoft.csv\")\n",
    "tesla_df = pd.read_csv(\"data/sent-tesla.csv\")\n"
   ]
  },
  {
   "cell_type": "code",
   "execution_count": 32,
   "metadata": {},
   "outputs": [],
   "source": [
    "\"\"\"\n",
    "Vader Sentiment\n",
    "Positive sentiment: > 0.05\n",
    "Negative sentiment: < -0.05\n",
    "Neutral sentiment: > 0.05 AND < -0.05 \n",
    "\"\"\"\n",
    "# Add Vader sentiment label (eg. positive, negative, or neutral)\n",
    "def sent_label(row):\n",
    "    if row[\"Sentiment\"] > 0.05:\n",
    "        return \"Positive\" \n",
    "    elif row[\"Sentiment\"] < -0.05:\n",
    "        return \"Negative\"\n",
    "    else:\n",
    "        return \"Neutral\"\n",
    "\n",
    "amazon_df[\"sentiment_label\"] = amazon_df.apply(sent_label, axis = 1)\n",
    "apple_df[\"sentiment_label\"] = apple_df.apply(sent_label, axis = 1)\n",
    "google_df[\"sentiment_label\"] = google_df.apply(sent_label, axis = 1)\n",
    "microsoft_df[\"sentiment_label\"] = microsoft_df.apply(sent_label, axis = 1)\n",
    "tesla_df[\"sentiment_label\"] = tesla_df.apply(sent_label, axis = 1)\n"
   ]
  },
  {
   "cell_type": "code",
   "execution_count": 33,
   "metadata": {},
   "outputs": [],
   "source": [
    "# Function to convert datetime format to datetime64 (date only) and pivot table to counts\n",
    "\n",
    "def date_and_sentiment(df, name):\n",
    "    #convert date format from unicode to datetime64, dropping the time\n",
    "    if pd.api.types.is_numeric_dtype(df[\"post_date\"]):\n",
    "        df['date'] = pd.to_datetime(df[\"post_date\"], unit='s')\n",
    "        df['date'] = df['date'].dt.floor('D')\n",
    "    else:\n",
    "        df['post_date'] = pd.to_numeric(df[\"post_date\"], errors='coerce')\n",
    "        df['date'] = pd.to_datetime(df[\"post_date\"], unit='s', errors='coerce')\n",
    "        df['date'] = df['date'].dt.floor('D')\n",
    "\n",
    "    df = df.drop(columns=['tweet_id', 'writer', 'post_date','comment_num', 'retweet_num', 'like_num', 'Sentiment', 'sentiment_label'])\n",
    "    \n",
    "    df.to_csv(\"./data/\"+ name.lower() + \"_token.csv\")\n",
    "\n",
    "\n",
    "    return df\n",
    "\n",
    "    #group and pivot to get the count values\n",
    "    # group_df = df.groupby('date')['sentiment_label'].value_counts().reset_index(name='count')\n",
    "    # pivot_df = group_df.pivot(index='date', columns='sentiment_label', values='count').fillna(0)\n",
    "    # pivoted = pivot_df.astype(int).reset_index()\n",
    "    # pivoted = pivoted.rename(columns={'date': 'Date'})\n",
    "    # # group_df = df.groupby('date')['sentiment_label'].value_counts().reset_index(name='count')\n",
    "    # # pivot_df = group_df.pivot(index='date', columns='sentiment_label', values='count').fillna(0)\n",
    "    # # pivoted1 = pivot_df.astype(int)\n",
    "    # # pivoted = pivoted1.reset_index()\n",
    "    # # pivoted = pivoted.rename(columns={\"date\": 'Date'})\n",
    "    # return pivoted\n"
   ]
  },
  {
   "cell_type": "markdown",
   "metadata": {},
   "source": [
    "### Generate Preprocessed CSVs for Sentiment Counts\n",
    "###### Note: The 'Negative' column values were updated to negative integers count for plotting purpose "
   ]
  },
  {
   "cell_type": "code",
   "execution_count": 34,
   "metadata": {},
   "outputs": [
    {
     "data": {
      "text/html": [
       "<div>\n",
       "<style scoped>\n",
       "    .dataframe tbody tr th:only-of-type {\n",
       "        vertical-align: middle;\n",
       "    }\n",
       "\n",
       "    .dataframe tbody tr th {\n",
       "        vertical-align: top;\n",
       "    }\n",
       "\n",
       "    .dataframe thead th {\n",
       "        text-align: right;\n",
       "    }\n",
       "</style>\n",
       "<table border=\"1\" class=\"dataframe\">\n",
       "  <thead>\n",
       "    <tr style=\"text-align: right;\">\n",
       "      <th></th>\n",
       "      <th>body</th>\n",
       "      <th>ticker_symbol</th>\n",
       "      <th>date</th>\n",
       "    </tr>\n",
       "  </thead>\n",
       "  <tbody>\n",
       "    <tr>\n",
       "      <th>0</th>\n",
       "      <td>S&amp;P100 #Stocks Performance $HD $LOW $SBUX $TGT...</td>\n",
       "      <td>AMZN</td>\n",
       "      <td>2015-01-01</td>\n",
       "    </tr>\n",
       "    <tr>\n",
       "      <th>1</th>\n",
       "      <td>Top 10 searched #stocks of #2014 $AAPL $FB $BA...</td>\n",
       "      <td>AMZN</td>\n",
       "      <td>2015-01-01</td>\n",
       "    </tr>\n",
       "  </tbody>\n",
       "</table>\n",
       "</div>"
      ],
      "text/plain": [
       "                                                body ticker_symbol       date\n",
       "0  S&P100 #Stocks Performance $HD $LOW $SBUX $TGT...          AMZN 2015-01-01\n",
       "1  Top 10 searched #stocks of #2014 $AAPL $FB $BA...          AMZN 2015-01-01"
      ]
     },
     "metadata": {},
     "output_type": "display_data"
    },
    {
     "data": {
      "text/plain": [
       "Index(['body', 'ticker_symbol', 'date'], dtype='object')"
      ]
     },
     "metadata": {},
     "output_type": "display_data"
    },
    {
     "data": {
      "text/html": [
       "<div>\n",
       "<style scoped>\n",
       "    .dataframe tbody tr th:only-of-type {\n",
       "        vertical-align: middle;\n",
       "    }\n",
       "\n",
       "    .dataframe tbody tr th {\n",
       "        vertical-align: top;\n",
       "    }\n",
       "\n",
       "    .dataframe thead th {\n",
       "        text-align: right;\n",
       "    }\n",
       "</style>\n",
       "<table border=\"1\" class=\"dataframe\">\n",
       "  <thead>\n",
       "    <tr style=\"text-align: right;\">\n",
       "      <th></th>\n",
       "      <th>body</th>\n",
       "      <th>ticker_symbol</th>\n",
       "      <th>date</th>\n",
       "    </tr>\n",
       "  </thead>\n",
       "  <tbody>\n",
       "    <tr>\n",
       "      <th>0</th>\n",
       "      <td>lx21 made $10,008  on $AAPL -Check it out! htt...</td>\n",
       "      <td>AAPL</td>\n",
       "      <td>2015-01-01</td>\n",
       "    </tr>\n",
       "    <tr>\n",
       "      <th>1</th>\n",
       "      <td>Insanity of today weirdo massive selling. $aap...</td>\n",
       "      <td>AAPL</td>\n",
       "      <td>2015-01-01</td>\n",
       "    </tr>\n",
       "  </tbody>\n",
       "</table>\n",
       "</div>"
      ],
      "text/plain": [
       "                                                body ticker_symbol       date\n",
       "0  lx21 made $10,008  on $AAPL -Check it out! htt...          AAPL 2015-01-01\n",
       "1  Insanity of today weirdo massive selling. $aap...          AAPL 2015-01-01"
      ]
     },
     "metadata": {},
     "output_type": "display_data"
    },
    {
     "data": {
      "text/plain": [
       "Index(['body', 'ticker_symbol', 'date'], dtype='object')"
      ]
     },
     "metadata": {},
     "output_type": "display_data"
    },
    {
     "data": {
      "text/html": [
       "<div>\n",
       "<style scoped>\n",
       "    .dataframe tbody tr th:only-of-type {\n",
       "        vertical-align: middle;\n",
       "    }\n",
       "\n",
       "    .dataframe tbody tr th {\n",
       "        vertical-align: top;\n",
       "    }\n",
       "\n",
       "    .dataframe thead th {\n",
       "        text-align: right;\n",
       "    }\n",
       "</style>\n",
       "<table border=\"1\" class=\"dataframe\">\n",
       "  <thead>\n",
       "    <tr style=\"text-align: right;\">\n",
       "      <th></th>\n",
       "      <th>body</th>\n",
       "      <th>ticker_symbol</th>\n",
       "      <th>date</th>\n",
       "    </tr>\n",
       "  </thead>\n",
       "  <tbody>\n",
       "    <tr>\n",
       "      <th>0</th>\n",
       "      <td>Top 10 searched #stocks of #2014 $AAPL $FB $BA...</td>\n",
       "      <td>GOOG</td>\n",
       "      <td>2015-01-01</td>\n",
       "    </tr>\n",
       "    <tr>\n",
       "      <th>1</th>\n",
       "      <td>#GOOGLE 'C' : Chinese paper blames Google over...</td>\n",
       "      <td>GOOG</td>\n",
       "      <td>2015-01-01</td>\n",
       "    </tr>\n",
       "  </tbody>\n",
       "</table>\n",
       "</div>"
      ],
      "text/plain": [
       "                                                body ticker_symbol       date\n",
       "0  Top 10 searched #stocks of #2014 $AAPL $FB $BA...          GOOG 2015-01-01\n",
       "1  #GOOGLE 'C' : Chinese paper blames Google over...          GOOG 2015-01-01"
      ]
     },
     "metadata": {},
     "output_type": "display_data"
    },
    {
     "data": {
      "text/plain": [
       "Index(['body', 'ticker_symbol', 'date'], dtype='object')"
      ]
     },
     "metadata": {},
     "output_type": "display_data"
    },
    {
     "data": {
      "text/html": [
       "<div>\n",
       "<style scoped>\n",
       "    .dataframe tbody tr th:only-of-type {\n",
       "        vertical-align: middle;\n",
       "    }\n",
       "\n",
       "    .dataframe tbody tr th {\n",
       "        vertical-align: top;\n",
       "    }\n",
       "\n",
       "    .dataframe thead th {\n",
       "        text-align: right;\n",
       "    }\n",
       "</style>\n",
       "<table border=\"1\" class=\"dataframe\">\n",
       "  <thead>\n",
       "    <tr style=\"text-align: right;\">\n",
       "      <th></th>\n",
       "      <th>body</th>\n",
       "      <th>ticker_symbol</th>\n",
       "      <th>date</th>\n",
       "    </tr>\n",
       "  </thead>\n",
       "  <tbody>\n",
       "    <tr>\n",
       "      <th>0</th>\n",
       "      <td>$UNP $ORCL $QCOM $MSFT $AAPL Top scoring mega ...</td>\n",
       "      <td>MSFT</td>\n",
       "      <td>2015-01-01</td>\n",
       "    </tr>\n",
       "    <tr>\n",
       "      <th>1</th>\n",
       "      <td>http://StockAviator.com....Top penny stocks, N...</td>\n",
       "      <td>MSFT</td>\n",
       "      <td>2015-01-01</td>\n",
       "    </tr>\n",
       "  </tbody>\n",
       "</table>\n",
       "</div>"
      ],
      "text/plain": [
       "                                                body ticker_symbol       date\n",
       "0  $UNP $ORCL $QCOM $MSFT $AAPL Top scoring mega ...          MSFT 2015-01-01\n",
       "1  http://StockAviator.com....Top penny stocks, N...          MSFT 2015-01-01"
      ]
     },
     "metadata": {},
     "output_type": "display_data"
    },
    {
     "data": {
      "text/plain": [
       "Index(['body', 'ticker_symbol', 'date'], dtype='object')"
      ]
     },
     "metadata": {},
     "output_type": "display_data"
    },
    {
     "data": {
      "text/html": [
       "<div>\n",
       "<style scoped>\n",
       "    .dataframe tbody tr th:only-of-type {\n",
       "        vertical-align: middle;\n",
       "    }\n",
       "\n",
       "    .dataframe tbody tr th {\n",
       "        vertical-align: top;\n",
       "    }\n",
       "\n",
       "    .dataframe thead th {\n",
       "        text-align: right;\n",
       "    }\n",
       "</style>\n",
       "<table border=\"1\" class=\"dataframe\">\n",
       "  <thead>\n",
       "    <tr style=\"text-align: right;\">\n",
       "      <th></th>\n",
       "      <th>body</th>\n",
       "      <th>ticker_symbol</th>\n",
       "      <th>date</th>\n",
       "    </tr>\n",
       "  </thead>\n",
       "  <tbody>\n",
       "    <tr>\n",
       "      <th>0</th>\n",
       "      <td>$GM $TSLA: Volkswagen Pushes 2014 Record Recal...</td>\n",
       "      <td>TSLA</td>\n",
       "      <td>2015-01-01</td>\n",
       "    </tr>\n",
       "    <tr>\n",
       "      <th>1</th>\n",
       "      <td>Swing Trading: Up To 8.91% Return In 14 Days h...</td>\n",
       "      <td>TSLA</td>\n",
       "      <td>2015-01-01</td>\n",
       "    </tr>\n",
       "  </tbody>\n",
       "</table>\n",
       "</div>"
      ],
      "text/plain": [
       "                                                body ticker_symbol       date\n",
       "0  $GM $TSLA: Volkswagen Pushes 2014 Record Recal...          TSLA 2015-01-01\n",
       "1  Swing Trading: Up To 8.91% Return In 14 Days h...          TSLA 2015-01-01"
      ]
     },
     "metadata": {},
     "output_type": "display_data"
    },
    {
     "data": {
      "text/plain": [
       "Index(['body', 'ticker_symbol', 'date'], dtype='object')"
      ]
     },
     "metadata": {},
     "output_type": "display_data"
    }
   ],
   "source": [
    "# Amazon\n",
    "#preprocessed apple csv output\n",
    "name = \"Amazon\"\n",
    "amazon_df = date_and_sentiment(amazon_df, name)\n",
    "display(amazon_df.head(2))\n",
    "display(amazon_df.columns)\n",
    "\n",
    "# Apple \n",
    "name = \"Apple\"\n",
    "apple_df = date_and_sentiment(apple_df, name)\n",
    "display(apple_df.head(2))\n",
    "display(apple_df.columns)\n",
    "\n",
    "# Google\n",
    "name = \"Google\"\n",
    "google_df = date_and_sentiment(google_df, name)\n",
    "display(google_df.head(2))\n",
    "display(google_df.columns)\n",
    "\n",
    "# Microsoft\n",
    "name = \"Microsoft\"\n",
    "microsoft_df = date_and_sentiment(microsoft_df, name)\n",
    "display(microsoft_df.head(2))\n",
    "display(microsoft_df.columns)\n",
    "\n",
    "# Tesla\n",
    "name = \"Tesla\"\n",
    "tesla_df = date_and_sentiment(tesla_df, name)\n",
    "display(tesla_df.head(2))\n",
    "display(tesla_df.columns)"
   ]
  }
 ],
 "metadata": {
  "kernelspec": {
   "display_name": "dev",
   "language": "python",
   "name": "python3"
  },
  "language_info": {
   "codemirror_mode": {
    "name": "ipython",
    "version": 3
   },
   "file_extension": ".py",
   "mimetype": "text/x-python",
   "name": "python",
   "nbconvert_exporter": "python",
   "pygments_lexer": "ipython3",
   "version": "3.10.13"
  }
 },
 "nbformat": 4,
 "nbformat_minor": 2
}
