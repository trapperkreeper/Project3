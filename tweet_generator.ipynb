{
 "cells": [
  {
   "cell_type": "code",
   "execution_count": 1,
   "metadata": {},
   "outputs": [],
   "source": [
    "# Imports for loading environment variables.\n",
    "from dotenv import load_dotenv\n",
    "import os"
   ]
  },
  {
   "cell_type": "code",
   "execution_count": 2,
   "metadata": {},
   "outputs": [],
   "source": [
    "# Load environment variables.\n",
    "load_dotenv()\n",
    "\n",
    "# Set the model name for our LLMs.\n",
    "OPENAI_MODEL = \"gpt-4o\"\n",
    "# Store the API key in a variable.\n",
    "OPENAI_API_KEY = os.getenv(\"OPENAI_API_KEY\")"
   ]
  },
  {
   "cell_type": "code",
   "execution_count": 3,
   "metadata": {},
   "outputs": [],
   "source": [
    "# Additional imports for the chain and templates.\n",
    "from langchain_openai import ChatOpenAI\n",
    "from langchain import PromptTemplate, FewShotPromptTemplate\n",
    "from langchain.chains import LLMChain\n",
    "# Use playsound v1.2.2 if default (v1.3.0) does not work\n",
    "#!pip install playsound==1.2.2\n",
    "import playsound\n",
    "from pathlib import Path\n",
    "from openai import OpenAI\n",
    "import gradio as gr"
   ]
  },
  {
   "cell_type": "code",
   "execution_count": 4,
   "metadata": {},
   "outputs": [],
   "source": [
    "def generate_tweet(sentiment, ticker):\n",
    "\n",
    "    # Initialize the model.\n",
    "    llm=ChatOpenAI(openai_api_key=OPENAI_API_KEY, model_name=OPENAI_MODEL, temperature=0.3)\n",
    "    # Create examples.\n",
    "    examples = [\n",
    "        {\n",
    "            \"query\":\"Negative\",\n",
    "            \"answer\":\"My increasing frustration with #Android in a single screenshot\"\" $GOOG\"\n",
    "        },\n",
    "        {\n",
    "            \"query\":\"Negative\",\n",
    "            \"answer\":\"Apple is being sued for falsely advertising the storage capacity of iPhones\"        \n",
    "        },\n",
    "        {\n",
    "            \"query\":\"Positive\",\n",
    "            \"answer\": \"3D Systems and Amazon are set for stock rebounds in 2015\"\n",
    "        },\n",
    "        {\n",
    "            \"query\":\"Negative\",\n",
    "            \"answer\": \"Who can afford $TSLA?\"\n",
    "        },\n",
    "        {\n",
    "            \"query\":\"Negative\",\n",
    "            \"answer\":\"is that how you convince yourself to commit fraud ? $TSLAQ $TSLA\"\n",
    "        },\n",
    "        {\n",
    "            \"query\":\"Negative\",\n",
    "            \"answer\": \"Stuff like this literal causes me to lose all faith in humanity. This is just sad. Elon says dont believe the cynics and we get this. leaves a little Lizard sell signal\"\n",
    "        },\n",
    "        {\n",
    "            \"query\":\"Positive\",\n",
    "            \"answer\":\" Stock Hits the Most Important Short-term Milestone\"\n",
    "        },\n",
    "        {\n",
    "            \"query\":\"Positive\",\n",
    "            \"answer\":\"Heck of a day despite a sideways market! Even snoozers can be exciting! Check out this perfect short setup that I made, and how you can learn this strategy in your every day trading!\"\n",
    "        },\n",
    "        {\n",
    "            \"query\":\"Positive\",\n",
    "            \"answer\":\"Sold my position in $AAPL 69% gain in one year... wish I had bought more last December\"\n",
    "        }\n",
    "    \n",
    "    ]\n",
    "    # Define a format for the examples.\n",
    "    \n",
    "    example_format = \"\"\"\n",
    "    Human: {query}\n",
    "    AI: {answer}\n",
    "    \"\"\"\n",
    "    # Create a prompt template for the examples.\n",
    "    example_template = PromptTemplate(\n",
    "        input_variables=[\"query\", \"answer\"],\n",
    "        template=example_format\n",
    "    )   \n",
    "    # Define a prefix that explains the prompt.\n",
    "\n",
    "    prefix = \"\"\"\n",
    "        Here are examples of positive and negaive tweets as related to stock market for Amazon, Tesla, Google, Apple and Microsoft.\n",
    "        The AI provides a single sentence in a tweet format with the sentiment provided about the subject.\n",
    "        The tweets should be oriented to manipulate stock price negative lowers stocks, positive increases stock\n",
    "    \"\"\"\n",
    "\n",
    "    # Provide a suffix that includes the query.\n",
    "    suffix = \"\"\"\n",
    "    Human: {query}\n",
    "    AI: \n",
    "    \"\"\"\n",
    "    # Construct the few shot prompt template.\n",
    "    prompt_template = FewShotPromptTemplate(\n",
    "        examples=examples,\n",
    "        example_prompt=example_template,\n",
    "        input_variables=[\"query\"],\n",
    "        prefix=prefix,\n",
    "        suffix=suffix,\n",
    "        example_separator=\"\\n\\n\"\n",
    "    )\n",
    "    # Construct a chain using this template.\n",
    "    chain = LLMChain(llm=llm, prompt=prompt_template)\n",
    "    # Prompt the user for a topic.\n",
    "    query = f'Please create a {sentiment} tweet for company {ticker}'\n",
    "    # Define the query as a dictionary.\n",
    "    query = {\"query\": query}\n",
    "    # Run the chain using the query as input and print the result.\n",
    "    result = chain.run(query)\n",
    "\n",
    "    filename = 'response.mp3'\n",
    "    filepath = Path(filename)\n",
    "\n",
    "\n",
    "\n",
    "    # https://platform.openai.com/docs/guides/text-to-speech\n",
    "    #  Available models are \"tts-1\" and \"tts-1-hd\"\n",
    "    # Available voices are \"alloy\", \"echo\", \"fable\", \"onyx\", \"nova\", and \"shimmer\"\n",
    "    OpenAI().audio.speech\\\n",
    "        .create(model=\"tts-1\", voice=\"fable\", input=result)\\\n",
    "        .write_to_file(filepath)\n",
    "    playsound.playsound(filename)\n",
    "    os.remove(filepath)\n",
    "\n",
    "    return result"
   ]
  },
  {
   "cell_type": "code",
   "execution_count": 5,
   "metadata": {},
   "outputs": [
    {
     "name": "stdout",
     "output_type": "stream",
     "text": [
      "Running on local URL:  http://127.0.0.1:7860\n",
      "\n",
      "Could not create share link. Please check your internet connection or our status page: https://status.gradio.app.\n"
     ]
    },
    {
     "data": {
      "text/html": [
       "<div><iframe src=\"http://127.0.0.1:7860/\" width=\"100%\" height=\"500\" allow=\"autoplay; camera; microphone; clipboard-read; clipboard-write;\" frameborder=\"0\" allowfullscreen></iframe></div>"
      ],
      "text/plain": [
       "<IPython.core.display.HTML object>"
      ]
     },
     "metadata": {},
     "output_type": "display_data"
    },
    {
     "data": {
      "text/plain": []
     },
     "execution_count": 5,
     "metadata": {},
     "output_type": "execute_result"
    },
    {
     "name": "stderr",
     "output_type": "stream",
     "text": [
      "c:\\Users\\ikerm\\anaconda3\\envs\\dev\\lib\\site-packages\\langchain_core\\_api\\deprecation.py:119: LangChainDeprecationWarning: The class `LLMChain` was deprecated in LangChain 0.1.17 and will be removed in 0.3.0. Use RunnableSequence, e.g., `prompt | llm` instead.\n",
      "  warn_deprecated(\n",
      "c:\\Users\\ikerm\\anaconda3\\envs\\dev\\lib\\site-packages\\langchain_core\\_api\\deprecation.py:119: LangChainDeprecationWarning: The method `Chain.run` was deprecated in langchain 0.1.0 and will be removed in 0.2.0. Use invoke instead.\n",
      "  warn_deprecated(\n"
     ]
    }
   ],
   "source": [
    "#Create Gradio Interface\n",
    "# Ticker list\n",
    "tickers = [\"Apple\", \"Amazon\", \"Google\", \"Microsoft\", \"Tesla\"]\n",
    "sentiment = [\"Positive\",\"Negative\"]\n",
    "\n",
    "# Custom css for the interface\n",
    "custom_css = \"\"\"\n",
    ".center-text {\n",
    "    display: flex;\n",
    "    flex-direction: column;\n",
    "    justify-content: center;\n",
    "    align-items: center;\n",
    "    height: 100vh;\n",
    "    text-align: center;\n",
    "}\n",
    "\"\"\"\n",
    "\n",
    "with gr.Blocks(theme=\"Monochrome\", css=custom_css) as gui:\n",
    "    # Home page\n",
    "    with gr.Row(visible=True) as home_view:\n",
    "        with gr.Column(elem_classes=[\"center-text\"]):\n",
    "            gr.Markdown(\"# Welcome to the Tweet Generator\")\n",
    "            gr.Markdown(\"Use this model to generate tweets to try and manipulate the stock market.\")\n",
    "            home_button = gr.Button(\"Go to Tweet Generator\")\n",
    "    # Selection page\n",
    "    with gr.Row(visible=False) as chart_view:\n",
    "        with gr.Column(scale=1):\n",
    "            company = gr.Dropdown(choices=tickers, label=\"Select Company\")\n",
    "            sentiment = gr.Dropdown(choices=sentiment, label=\"Select Positive or Negative Tweet\")\n",
    "            generate_button = gr.Button(\"Generate Tweet\", scale=1)\n",
    "            back_button = gr.Button(\"Back to Home\", scale=1)\n",
    "    # Plot page\n",
    "    with gr.Row(visible=False) as plot_view:\n",
    "        with gr.Column(scale=75):\n",
    "            tweet_output = gr.Textbox()\n",
    "        with gr.Column(scale=1):\n",
    "            back_to_chart_button = gr.Button(\"Back to Tweet Generator\")\n",
    "    # Button functions\n",
    "    home_button.click(lambda: (gr.update(visible=False), gr.update(visible=True)), None, [home_view, chart_view])\n",
    "    back_button.click(lambda: (gr.update(visible=True), gr.update(visible=False)), None, [home_view, chart_view])\n",
    "    generate_button.click(lambda: (gr.update(visible=False), gr.update(visible=True)), None, [chart_view, plot_view])\n",
    "    generate_button.click(lambda ticker, sentiment: generate_tweet(ticker, sentiment) if ticker else None, [company, sentiment], tweet_output)\n",
    "    back_to_chart_button.click(lambda: (gr.update(visible=True), gr.update(visible=False)), None, [chart_view, plot_view])\n",
    "\n",
    "gui.launch(share=True)"
   ]
  }
 ],
 "metadata": {
  "kernelspec": {
   "display_name": "Python 3",
   "language": "python",
   "name": "python3"
  },
  "language_info": {
   "codemirror_mode": {
    "name": "ipython",
    "version": 3
   },
   "file_extension": ".py",
   "mimetype": "text/x-python",
   "name": "python",
   "nbconvert_exporter": "python",
   "pygments_lexer": "ipython3",
   "version": "3.10.13"
  }
 },
 "nbformat": 4,
 "nbformat_minor": 2
}
